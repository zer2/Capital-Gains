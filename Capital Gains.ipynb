{
 "cells": [
  {
   "cell_type": "markdown",
   "id": "3036b786-e49d-4d25-91f0-36f0e2c9cd9c",
   "metadata": {},
   "source": [
    "<script type=\"text/javascript\" id=\"MathJax-script\" async\n",
    "  src=\"https://cdn.jsdelivr.net/npm/mathjax@3/es5/tex-mml-chtml.js\">\n",
    "</script>"
   ]
  },
  {
   "cell_type": "markdown",
   "id": "e807f28e-8947-4f09-8902-458c8d5006d1",
   "metadata": {},
   "source": [
    "In the United States, capital gains are taxed at a flat rate, usually 20% for high earners. For example, if a high earner invests \\\\$100 into stocks and they sell those stocks when the stocks are worth \\\\$300, they would owe 20% of \\\\$200, which is \\\\$20, in taxes. \n",
    "\n",
    "One of the issues with this scheme is that is discourages ever selling assets to convert into other assets. Paying the capital gains tax early is financially sub-optimal because it prevents compounding. As a simple example, let's say an investor with a 20% tax rate invests 100 dollars into an asset which doubles in value. Then they can either keep it in the same asset and have it double in value again, or switch to a different asset and have that double in value. One would hope that the investor would pay the same in taxes either way, but they do not. \n",
    "\n",
    "In the first case, they grow \\\\$100 into \\\\$400. Then they pay 20% of \\\\$300 in taxes, which is \\\\$60. So they end up with \\\\$340. \n",
    "\n",
    "In the second case, they first grow \\\\$100 into \\\\$\\200$. After capital gains tax, that becomes \\\\$180. Then they double it to \\\\$360 and pay the capital gains tax on the \\\\$180 increase, which is \\\\$36. So they end up with \\\\$324\n",
    "\n",
    "This phenomenon is not isolated to this contrived example. Play with the widget below to try different scenarios; the intermediate liquidiation is always discouraged\n"
   ]
  },
  {
   "cell_type": "code",
   "execution_count": 34,
   "id": "b17331d0-6a54-4b32-8a72-dfab2bf28906",
   "metadata": {},
   "outputs": [
    {
     "data": {
      "application/vnd.jupyter.widget-view+json": {
       "model_id": "eebfef95d728412aacac31f28f33dab7",
       "version_major": 2,
       "version_minor": 0
      },
      "text/plain": [
       "VBox(children=(FloatText(value=100.0, description='Principal:', step=1.0, style=DescriptionStyle(description_w…"
      ]
     },
     "metadata": {},
     "output_type": "display_data"
    }
   ],
   "source": [
    "import ipywidgets as widgets\n",
    "from IPython.display import display\n",
    "\n",
    "# Create widgets for the inputs\n",
    "principal = widgets.FloatText(\n",
    "    value=100\n",
    "    ,description='Principal:'\n",
    "    ,step=1\n",
    "    ,style={'description_width': '200px'}\n",
    "  \n",
    ")\n",
    "\n",
    "rate1 = widgets.FloatText(\n",
    "    value=100\n",
    "    ,description='First rate of increase (%):'\n",
    "    ,step=1\n",
    "    ,style={'description_width': '200px'}\n",
    " \n",
    "\n",
    "\n",
    ")\n",
    "\n",
    "rate2 = widgets.FloatText(\n",
    "    value=100\n",
    "    ,description='Second rate of increase (%):'\n",
    "    ,step=1\n",
    "    ,style={'description_width': '200px'}\n",
    "\n",
    ")\n",
    "\n",
    "tax_rate = widgets.FloatSlider(\n",
    "    value=0.2,\n",
    "    min=0.0,\n",
    "    max=1.0,\n",
    "    step=0.01,\n",
    "    description='Tax Rate:',\n",
    "    readout_format='.0%'\n",
    ")\n",
    "\n",
    "output = widgets.Output()\n",
    "\n",
    "def compute_result(change=None):\n",
    "    with output:\n",
    "        output.clear_output()\n",
    "        r1 = rate1.value/100 + 1\n",
    "        r2 = rate2.value/100 + 1\n",
    "\n",
    "        if r1 <0 or r2 < 0:\n",
    "            print('Losses are a different thing than gains. For this widget, keep the rate of increases positive')\n",
    "        else:\n",
    "            # Placeholder computation\n",
    "            one_liquidation = r1*r2 - tax_rate.value * (r1*r2 - 1)\n",
    "            \n",
    "            intmd = r1 - tax_rate.value * (r1 - 1)\n",
    "            two_liquidations = intmd * r2 - tax_rate.value * (intmd * r2 - intmd)\n",
    "\n",
    "            print(f\"Intermediate value after liquidation : {principal.value * intmd:.2f}\")\n",
    "            print(f\"Ending total, after second liquidation : {principal.value * two_liquidations:.2f}\")\n",
    "            print(\"\")\n",
    "            print(f\"Ending total, one liquidation without intermediate: {principal.value * one_liquidation:.2f}\")\n",
    "\n",
    "# Link widget changes to update function\n",
    "principal.observe(compute_result, names='value')\n",
    "rate1.observe(compute_result, names='value')\n",
    "rate2.observe(compute_result, names='value')\n",
    "tax_rate.observe(compute_result, names='value')\n",
    "\n",
    "# Display widgets and output\n",
    "display(widgets.VBox([principal, rate1, rate2, tax_rate, output]))\n",
    "\n",
    "# Initial calculation\n",
    "compute_result()"
   ]
  },
  {
   "cell_type": "markdown",
   "id": "806cefe5-12c1-493d-8ee6-d9d054549f85",
   "metadata": {},
   "source": [
    "***"
   ]
  },
  {
   "cell_type": "markdown",
   "id": "cadf88de-02e4-417c-8559-fdef335fef10",
   "metadata": {},
   "source": [
    "Are there other tax schemes that would work better, and not discourage intermediate liquidation?\n",
    "\n",
    "Indeed there are schemes which are neutral to liquidation frequency. Mathematically, what we want is a tax function which yields an equivalent result when applied either after both increases or just after the second increase. This can be discovered by mathematically modeling that property and finding tax schemes which satisfy it.  \n",
    "\n",
    "To start, consider a function $f(x)$ which describes the effective rate of return after taxes are applied to an $x$-fold increase. For example the typical flat rate approach would take away $T (x -1)$ from $x$, where $T$ is the tax rate. So the tax function $f(x)$ would be \n",
    "\n",
    "$$\n",
    "f^*(x) = x - T (x - 1)\n",
    "$$\n",
    "\n",
    "The two scenarios we are considering are the intermediate liquidiation scenario, and the single-liquidation scenario. If an investor yields a rate of return of $x$ and then sells, they end up with $f(x)$. Applying that as principal and then achieving a rate increase of $y$, they would have $f(x)f(y)$. If they did not sell in the middle, they would instead of $f(x)f(y)$. \n",
    "\n",
    "The scheme is neutral if the two strategies yield the same result. That is, \n",
    "\n",
    "$$\n",
    "f(xy) = f(x)f(y) \n",
    "$$\n",
    "\n",
    "This is the multiplicative property. It is clear that $f^*$ does not satisfy this upon immediate inspection; the right side of the question has a $T^2$ term which the left side does not. \n",
    "\n",
    "The main group of functions which do observe the multiplicative property is the group of power functions, $X^C$. This inspires a tax function of \n",
    "\n",
    "$$\n",
    "f'(x) = x^r\n",
    "$$\n",
    "\n",
    "Where $r$ is some number between $0$ and $1$ to ensure that the result is bounded by $1$ and $x$. \n",
    "\n",
    "In terms of the amount of tax actually collected, for $f'(x)$ it must be $x - x^r$.\n",
    "\n",
    "Say $r$ is set to 85%. Then, an investor who triples their money would pay $3 - 3^{0.85}$ or approximately 46% of their original principal.\n",
    "\n",
    "Below is a re-done version of the widgets above, using this tax scheme. It shows that under this scheme, the intermediate liquidation does not change the end result."
   ]
  },
  {
   "cell_type": "code",
   "execution_count": 35,
   "id": "63531f76-a219-483b-aa7b-97ec9fafc686",
   "metadata": {},
   "outputs": [
    {
     "data": {
      "application/vnd.jupyter.widget-view+json": {
       "model_id": "79d2f66254894190b1bc16c454f5f5b5",
       "version_major": 2,
       "version_minor": 0
      },
      "text/plain": [
       "VBox(children=(FloatText(value=100.0, description='Principal:', step=1.0, style=DescriptionStyle(description_w…"
      ]
     },
     "metadata": {},
     "output_type": "display_data"
    }
   ],
   "source": [
    "\n",
    "# Create widgets for the inputs\n",
    "principal = widgets.FloatText(\n",
    "    value=100\n",
    "    ,description='Principal:'\n",
    "    ,step=1\n",
    "    ,style={'description_width': '200px'}\n",
    "  \n",
    ")\n",
    "\n",
    "rate1 = widgets.FloatText(\n",
    "    value=100\n",
    "    ,description='First rate of increase (%):'\n",
    "    ,step=1\n",
    "    ,style={'description_width': '200px'}\n",
    " \n",
    "\n",
    "\n",
    ")\n",
    "\n",
    "rate2 = widgets.FloatText(\n",
    "    value=100\n",
    "    ,description='Second rate of increase (%):'\n",
    "    ,step=1\n",
    "    ,style={'description_width': '200px'}\n",
    "\n",
    ")\n",
    "\n",
    "tax_rate = widgets.FloatSlider(\n",
    "    value=0.85,\n",
    "    min=0.0,\n",
    "    max=1.0,\n",
    "    step=0.01,\n",
    "    description='Power law factor $r$:',\n",
    "    readout_format='.0%'\n",
    ")\n",
    "\n",
    "output = widgets.Output()\n",
    "\n",
    "def compute_result(change=None):\n",
    "    with output:\n",
    "        output.clear_output()\n",
    "        r1 = rate1.value/100 + 1\n",
    "        r2 = rate2.value/100 + 1\n",
    "\n",
    "        if r1 <0 or r2 < 0:\n",
    "            print('Losses are a different thing than gains. For this widget, keep the rate of increases positive')\n",
    "        else:\n",
    "            # Placeholder computation\n",
    "            one_liquidation = (r1*r2)**tax_rate.value\n",
    "            \n",
    "            intmd = r1**tax_rate.value\n",
    "            two_liquidations = r2**tax_rate.value * intmd\n",
    "            \n",
    "            print(f\"Intermediate value after liquidation : {principal.value * intmd:.2f}\")\n",
    "            print(f\"Ending total, after second liquidation : {principal.value * two_liquidations:.2f}\")\n",
    "            print(\"\")\n",
    "            print(f\"Ending total, one liquidation without intermediate: {principal.value * one_liquidation:.2f}\")\n",
    "\n",
    "# Link widget changes to update function\n",
    "principal.observe(compute_result, names='value')\n",
    "rate1.observe(compute_result, names='value')\n",
    "rate2.observe(compute_result, names='value')\n",
    "tax_rate.observe(compute_result, names='value')\n",
    "\n",
    "# Display widgets and output\n",
    "display(widgets.VBox([principal, rate1, rate2, tax_rate, output]))\n",
    "\n",
    "# Initial calculation\n",
    "compute_result()"
   ]
  }
 ],
 "metadata": {
  "kernelspec": {
   "display_name": "Python 3 (ipykernel)",
   "language": "python",
   "name": "python3"
  },
  "language_info": {
   "codemirror_mode": {
    "name": "ipython",
    "version": 3
   },
   "file_extension": ".py",
   "mimetype": "text/x-python",
   "name": "python",
   "nbconvert_exporter": "python",
   "pygments_lexer": "ipython3",
   "version": "3.11.7"
  }
 },
 "nbformat": 4,
 "nbformat_minor": 5
}
